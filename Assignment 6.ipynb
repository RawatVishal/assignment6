{
 "cells": [
  {
   "cell_type": "code",
   "execution_count": 1,
   "id": "92b59083",
   "metadata": {},
   "outputs": [],
   "source": [
    "#Q1\n",
    "#Anything in single quotes is defined as string but if we want to insert anything within single quotes then it will give error.\n",
    "#So to make it happen we use special characters like \\ (backlash) which is known as escape characters.\n",
    "# like \\' , \\\" ,\\n ,\\r , \\t etc "
   ]
  },
  {
   "cell_type": "code",
   "execution_count": 2,
   "id": "5644d4f7",
   "metadata": {},
   "outputs": [
    {
     "name": "stdout",
     "output_type": "stream",
     "text": [
      "Hello\n",
      "World\n"
     ]
    }
   ],
   "source": [
    "#Q2\n",
    "#\\n it is a newline character when it is used it make that part of string start from newline\n",
    "print('Hello\\nWorld')"
   ]
  },
  {
   "cell_type": "code",
   "execution_count": 3,
   "id": "1ad3aca5",
   "metadata": {},
   "outputs": [
    {
     "name": "stdout",
     "output_type": "stream",
     "text": [
      "Vishal\tRawat\n"
     ]
    }
   ],
   "source": [
    "#\\t it is a tabspace character by using it we can give a gap between two characters\n",
    "print('Vishal\\tRawat')"
   ]
  },
  {
   "cell_type": "code",
   "execution_count": 4,
   "id": "e7f27335",
   "metadata": {},
   "outputs": [],
   "source": [
    "#Q3\n",
    "# To insert an illegal character in a string we use escape character like backslash \\ which is followed by the character you want to insert "
   ]
  },
  {
   "cell_type": "code",
   "execution_count": 5,
   "id": "eec2bc82",
   "metadata": {},
   "outputs": [],
   "source": [
    "#Q4\n",
    "#Because here you use double quotes at the start and end of the string which a escape chararcter ."
   ]
  },
  {
   "cell_type": "code",
   "execution_count": 6,
   "id": "215a644e",
   "metadata": {},
   "outputs": [],
   "source": [
    "#Q5\n",
    "#We can use triple quotes if we do not want to use \\n for newlines ."
   ]
  },
  {
   "cell_type": "code",
   "execution_count": 7,
   "id": "a168b8ab",
   "metadata": {},
   "outputs": [
    {
     "data": {
      "text/plain": [
       "'e'"
      ]
     },
     "execution_count": 7,
     "metadata": {},
     "output_type": "execute_result"
    }
   ],
   "source": [
    "#Q6\n",
    "'Hello, world!'[1]"
   ]
  },
  {
   "cell_type": "code",
   "execution_count": 8,
   "id": "07d64b36",
   "metadata": {},
   "outputs": [
    {
     "data": {
      "text/plain": [
       "'Hello'"
      ]
     },
     "execution_count": 8,
     "metadata": {},
     "output_type": "execute_result"
    }
   ],
   "source": [
    "'Hello, world!'[0:5]"
   ]
  },
  {
   "cell_type": "code",
   "execution_count": 9,
   "id": "05cfd91f",
   "metadata": {},
   "outputs": [
    {
     "data": {
      "text/plain": [
       "'Hello'"
      ]
     },
     "execution_count": 9,
     "metadata": {},
     "output_type": "execute_result"
    }
   ],
   "source": [
    "'Hello, world!'[:5]"
   ]
  },
  {
   "cell_type": "code",
   "execution_count": 10,
   "id": "e19bde0b",
   "metadata": {},
   "outputs": [
    {
     "data": {
      "text/plain": [
       "'lo, world!'"
      ]
     },
     "execution_count": 10,
     "metadata": {},
     "output_type": "execute_result"
    }
   ],
   "source": [
    "'Hello, world!'[3:]"
   ]
  },
  {
   "cell_type": "code",
   "execution_count": 11,
   "id": "538a530b",
   "metadata": {},
   "outputs": [
    {
     "data": {
      "text/plain": [
       "'HELLO'"
      ]
     },
     "execution_count": 11,
     "metadata": {},
     "output_type": "execute_result"
    }
   ],
   "source": [
    "#Q7\n",
    "'Hello'.upper()"
   ]
  },
  {
   "cell_type": "code",
   "execution_count": 12,
   "id": "758e879e",
   "metadata": {},
   "outputs": [
    {
     "data": {
      "text/plain": [
       "True"
      ]
     },
     "execution_count": 12,
     "metadata": {},
     "output_type": "execute_result"
    }
   ],
   "source": [
    "'Hello'.upper().isupper()"
   ]
  },
  {
   "cell_type": "code",
   "execution_count": 13,
   "id": "7d954db1",
   "metadata": {},
   "outputs": [
    {
     "data": {
      "text/plain": [
       "'hello'"
      ]
     },
     "execution_count": 13,
     "metadata": {},
     "output_type": "execute_result"
    }
   ],
   "source": [
    "'Hello'.upper().lower()"
   ]
  },
  {
   "cell_type": "code",
   "execution_count": 15,
   "id": "50328b68",
   "metadata": {},
   "outputs": [
    {
     "data": {
      "text/plain": [
       "['Remember', ',remember,', 'the', 'fifth', 'of', 'July.']"
      ]
     },
     "execution_count": 15,
     "metadata": {},
     "output_type": "execute_result"
    }
   ],
   "source": [
    "#Q8\n",
    "'Remember ,remember, the fifth of July.'.split()"
   ]
  },
  {
   "cell_type": "code",
   "execution_count": 20,
   "id": "a4436bc2",
   "metadata": {},
   "outputs": [
    {
     "data": {
      "text/plain": [
       "'There-can-only-one.'"
      ]
     },
     "execution_count": 20,
     "metadata": {},
     "output_type": "execute_result"
    }
   ],
   "source": [
    "'-'.join('There can only one.'.split())"
   ]
  },
  {
   "cell_type": "code",
   "execution_count": 21,
   "id": "3269e1df",
   "metadata": {},
   "outputs": [],
   "source": [
    "#Q9\n",
    "#we use rjust() ,ljust(),center()"
   ]
  },
  {
   "cell_type": "code",
   "execution_count": 22,
   "id": "a2114119",
   "metadata": {},
   "outputs": [],
   "source": [
    "#Q10\n",
    "#by using strip() for removing whitespaces from left and right side \n",
    "#lstrip() for removing whitespace from left side\n",
    "#rstrip() for removing whitespace from right side "
   ]
  },
  {
   "cell_type": "code",
   "execution_count": null,
   "id": "cb1ed3c5",
   "metadata": {},
   "outputs": [],
   "source": []
  }
 ],
 "metadata": {
  "kernelspec": {
   "display_name": "Python 3 (ipykernel)",
   "language": "python",
   "name": "python3"
  },
  "language_info": {
   "codemirror_mode": {
    "name": "ipython",
    "version": 3
   },
   "file_extension": ".py",
   "mimetype": "text/x-python",
   "name": "python",
   "nbconvert_exporter": "python",
   "pygments_lexer": "ipython3",
   "version": "3.9.7"
  }
 },
 "nbformat": 4,
 "nbformat_minor": 5
}
